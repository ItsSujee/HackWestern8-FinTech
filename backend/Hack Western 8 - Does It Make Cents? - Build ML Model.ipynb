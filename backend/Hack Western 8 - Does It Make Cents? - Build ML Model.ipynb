{
 "cells": [
  {
   "cell_type": "code",
   "execution_count": 40,
   "id": "6d8a7bdd",
   "metadata": {},
   "outputs": [],
   "source": [
    "import csv\n",
    "import tensorflow as tf\n",
    "import numpy as np\n",
    "import matplotlib.pyplot as plt\n",
    "\n",
    "from tensorflow.keras.preprocessing.text import Tokenizer\n",
    "from tensorflow.keras.preprocessing.sequence import pad_sequences"
   ]
  },
  {
   "cell_type": "code",
   "execution_count": 18,
   "id": "6db8e4c8",
   "metadata": {},
   "outputs": [],
   "source": [
    "# Load Data\n",
    "sentences = []\n",
    "labels = []\n",
    "\n",
    "with open(\"dataset/spam_dataset.csv\", encoding=\"ISO-8859-1\") as csvfile:\n",
    "    reader = csv.reader(csvfile)\n",
    "    next(reader)\n",
    "    for row in reader:\n",
    "        if row[0] == \"ham\":\n",
    "            labels.append(0)\n",
    "        else:\n",
    "            labels.append(1)\n",
    "        sentences.append(row[1])"
   ]
  },
  {
   "cell_type": "code",
   "execution_count": 22,
   "id": "53807331",
   "metadata": {},
   "outputs": [
    {
     "name": "stdout",
     "output_type": "stream",
     "text": [
      "num sentences:  5572\n",
      "num labels:  5572\n"
     ]
    }
   ],
   "source": [
    "print(\"num sentences: \", len(sentences))\n",
    "print(\"num labels: \", len(labels))"
   ]
  },
  {
   "cell_type": "code",
   "execution_count": 24,
   "id": "b932f3db",
   "metadata": {},
   "outputs": [],
   "source": [
    "# Split training and testing data\n",
    "split = int(len(sentences)*0.85)\n",
    "\n",
    "training_x = sentences[:split]\n",
    "testing_x = sentences[split:]\n",
    "training_y = labels[:split]\n",
    "testing_y = labels[split:]"
   ]
  },
  {
   "cell_type": "code",
   "execution_count": 56,
   "id": "e7cdd8a0",
   "metadata": {},
   "outputs": [
    {
     "name": "stdout",
     "output_type": "stream",
     "text": [
      "[[  0   0   0 ...   1  99 398]\n",
      " [  0   0   0 ...   3 107  11]\n",
      " [  0   0   0 ...  37   7  72]\n",
      " ...\n",
      " [  0   0   0 ...  99 280   1]\n",
      " [  0   0   0 ... 232  13  49]\n",
      " [  0   0   0 ...   3  66 274]]\n",
      "max sequence length:  189\n"
     ]
    }
   ],
   "source": [
    "# Tokenize & Fit Data\n",
    "tokenizer = Tokenizer(num_words=500, oov_token=\"<OOV>\")\n",
    "tokenizer.fit_on_texts(training_x)\n",
    "\n",
    "word_index = tokenizer.word_index\n",
    "sequences = tokenizer.texts_to_sequences(training_x)\n",
    "padded = pad_sequences(sequences)\n",
    "\n",
    "max_sequence_len = max([len(x) for x in sequences])\n",
    "testing_sequences = tokenizer.texts_to_sequences(testing_x)\n",
    "testing_padded = pad_sequences(testing_sequences,maxlen=max_sequence_len)\n",
    "\n",
    "print(testing_padded)\n",
    "print(\"max sequence length: \", max_sequence_len)"
   ]
  },
  {
   "cell_type": "code",
   "execution_count": 48,
   "id": "23c28b9f",
   "metadata": {},
   "outputs": [],
   "source": [
    "# Create Numpy Arrays\n",
    "training_padded = np.array(padded)\n",
    "training_labels = np.array(training_y)\n",
    "testing_padded = np.array(testing_padded)\n",
    "testing_labels = np.array(testing_y)"
   ]
  },
  {
   "cell_type": "code",
   "execution_count": 49,
   "id": "2271ba41",
   "metadata": {},
   "outputs": [
    {
     "name": "stdout",
     "output_type": "stream",
     "text": [
      "Model: \"sequential_1\"\n",
      "_________________________________________________________________\n",
      " Layer (type)                Output Shape              Param #   \n",
      "=================================================================\n",
      " embedding_1 (Embedding)     (None, 189, 16)           80000     \n",
      "                                                                 \n",
      " bidirectional_1 (Bidirectio  (None, 189, 64)          12544     \n",
      " nal)                                                            \n",
      "                                                                 \n",
      " conv1d_1 (Conv1D)           (None, 185, 64)           20544     \n",
      "                                                                 \n",
      " max_pooling1d_1 (MaxPooling  (None, 46, 64)           0         \n",
      " 1D)                                                             \n",
      "                                                                 \n",
      " flatten_1 (Flatten)         (None, 2944)              0         \n",
      "                                                                 \n",
      " dropout_1 (Dropout)         (None, 2944)              0         \n",
      "                                                                 \n",
      " dense_2 (Dense)             (None, 24)                70680     \n",
      "                                                                 \n",
      " dense_3 (Dense)             (None, 1)                 25        \n",
      "                                                                 \n",
      "=================================================================\n",
      "Total params: 183,793\n",
      "Trainable params: 183,793\n",
      "Non-trainable params: 0\n",
      "_________________________________________________________________\n"
     ]
    }
   ],
   "source": [
    "# Create Keras Model\n",
    "# https://keras.io/guides/sequential_model/\n",
    "\n",
    "model = tf.keras.Sequential([\n",
    "    tf.keras.layers.Embedding(vocab_size, 16, input_length=max_sequence_len),\n",
    "    tf.keras.layers.Bidirectional(tf.keras.layers.LSTM(32, return_sequences=True)),\n",
    "    tf.keras.layers.Conv1D(64, 5, activation='relu'),\n",
    "    tf.keras.layers.MaxPooling1D(pool_size=4),\n",
    "    tf.keras.layers.Flatten(),\n",
    "    tf.keras.layers.Dropout(0.3),\n",
    "    tf.keras.layers.Dense(24, activation='relu'),\n",
    "    tf.keras.layers.Dense(1, activation='sigmoid')\n",
    "])\n",
    "\n",
    "model.compile(loss='binary_crossentropy', metrics=['accuracy'])\n",
    "\n",
    "model.summary()"
   ]
  },
  {
   "cell_type": "code",
   "execution_count": 50,
   "id": "2af999b7",
   "metadata": {},
   "outputs": [
    {
     "name": "stdout",
     "output_type": "stream",
     "text": [
      "Epoch 1/20\n",
      "148/148 [==============================] - 12s 66ms/step - loss: 0.2215 - accuracy: 0.9177 - val_loss: 0.0668 - val_accuracy: 0.9761\n",
      "Epoch 2/20\n",
      "148/148 [==============================] - 9s 62ms/step - loss: 0.0693 - accuracy: 0.9802 - val_loss: 0.0605 - val_accuracy: 0.9785\n",
      "Epoch 3/20\n",
      "148/148 [==============================] - 9s 60ms/step - loss: 0.0577 - accuracy: 0.9859 - val_loss: 0.0470 - val_accuracy: 0.9856\n",
      "Epoch 4/20\n",
      "148/148 [==============================] - 9s 58ms/step - loss: 0.0439 - accuracy: 0.9869 - val_loss: 0.0751 - val_accuracy: 0.9856\n",
      "Epoch 5/20\n",
      "148/148 [==============================] - 11s 73ms/step - loss: 0.0379 - accuracy: 0.9897 - val_loss: 0.0460 - val_accuracy: 0.9844\n",
      "Epoch 6/20\n",
      "148/148 [==============================] - 11s 77ms/step - loss: 0.0351 - accuracy: 0.9899 - val_loss: 0.0450 - val_accuracy: 0.9880\n",
      "Epoch 7/20\n",
      "148/148 [==============================] - 10s 64ms/step - loss: 0.0349 - accuracy: 0.9903 - val_loss: 0.0460 - val_accuracy: 0.9856\n",
      "Epoch 8/20\n",
      "148/148 [==============================] - 9s 62ms/step - loss: 0.0295 - accuracy: 0.9907 - val_loss: 0.0574 - val_accuracy: 0.9809\n",
      "Epoch 9/20\n",
      "148/148 [==============================] - 9s 62ms/step - loss: 0.0290 - accuracy: 0.9920 - val_loss: 0.0489 - val_accuracy: 0.9868\n",
      "Epoch 10/20\n",
      "148/148 [==============================] - 8s 57ms/step - loss: 0.0318 - accuracy: 0.9916 - val_loss: 0.0696 - val_accuracy: 0.9880\n",
      "Epoch 11/20\n",
      "148/148 [==============================] - 10s 66ms/step - loss: 0.0293 - accuracy: 0.9907 - val_loss: 0.0596 - val_accuracy: 0.9868\n",
      "Epoch 12/20\n",
      "148/148 [==============================] - 9s 62ms/step - loss: 0.0193 - accuracy: 0.9930 - val_loss: 0.0732 - val_accuracy: 0.9856\n",
      "Epoch 13/20\n",
      "148/148 [==============================] - 9s 63ms/step - loss: 0.0284 - accuracy: 0.9922 - val_loss: 0.0659 - val_accuracy: 0.9868\n",
      "Epoch 14/20\n",
      "148/148 [==============================] - 9s 59ms/step - loss: 0.0178 - accuracy: 0.9937 - val_loss: 0.0677 - val_accuracy: 0.9844\n",
      "Epoch 15/20\n",
      "148/148 [==============================] - 10s 69ms/step - loss: 0.0141 - accuracy: 0.9951 - val_loss: 0.0973 - val_accuracy: 0.9856\n",
      "Epoch 16/20\n",
      "148/148 [==============================] - 9s 60ms/step - loss: 0.0155 - accuracy: 0.9960 - val_loss: 0.1172 - val_accuracy: 0.9880\n",
      "Epoch 17/20\n",
      "148/148 [==============================] - 9s 60ms/step - loss: 0.0132 - accuracy: 0.9954 - val_loss: 0.1075 - val_accuracy: 0.9856\n",
      "Epoch 18/20\n",
      "148/148 [==============================] - 9s 59ms/step - loss: 0.0112 - accuracy: 0.9962 - val_loss: 0.1203 - val_accuracy: 0.9856\n",
      "Epoch 19/20\n",
      "148/148 [==============================] - 9s 58ms/step - loss: 0.0101 - accuracy: 0.9968 - val_loss: 0.1124 - val_accuracy: 0.9856\n",
      "Epoch 20/20\n",
      "148/148 [==============================] - 8s 57ms/step - loss: 0.0097 - accuracy: 0.9970 - val_loss: 0.1570 - val_accuracy: 0.9868\n"
     ]
    }
   ],
   "source": [
    "# Run Training\n",
    "num_epochs = 20\n",
    "history = model.fit(training_padded,\n",
    "                    training_labels,\n",
    "                    epochs=num_epochs,\n",
    "                    validation_data=(testing_padded, testing_labels),\n",
    "                    verbose=1)"
   ]
  },
  {
   "cell_type": "code",
   "execution_count": 51,
   "id": "ec1f4830",
   "metadata": {},
   "outputs": [
    {
     "data": {
      "image/png": "[encoded data removed]",
      "text/plain": [
       "<Figure size 432x288 with 1 Axes>"
      ]
     },
     "metadata": {
      "needs_background": "light"
     },
     "output_type": "display_data"
    }
   ],
   "source": [
    "# Plot Accuracy\n",
    "\n",
    "plt.plot(history.history[\"accuracy\"])\n",
    "plt.plot(history.history[\"val_accuracy\"])\n",
    "plt.xlabel(\"Epochs\")\n",
    "plt.ylabel(\"accuracy\")\n",
    "plt.legend([\"accuracy\", \"val_accuracy\"])\n",
    "plt.show()"
   ]
  },
  {
   "cell_type": "code",
   "execution_count": 53,
   "id": "2f9eaba5",
   "metadata": {},
   "outputs": [
    {
     "name": "stderr",
     "output_type": "stream",
     "text": [
      "WARNING:absl:Found untraced functions such as lstm_cell_4_layer_call_fn, lstm_cell_4_layer_call_and_return_conditional_losses, lstm_cell_5_layer_call_fn, lstm_cell_5_layer_call_and_return_conditional_losses, lstm_cell_4_layer_call_fn while saving (showing 5 of 10). These functions will not be directly callable after loading.\n"
     ]
    },
    {
     "name": "stdout",
     "output_type": "stream",
     "text": [
      "INFO:tensorflow:Assets written to: model/assets\n"
     ]
    },
    {
     "name": "stderr",
     "output_type": "stream",
     "text": [
      "INFO:tensorflow:Assets written to: model/assets\n",
      "WARNING:absl:<keras.layers.recurrent.LSTMCell object at 0x13928ce20> has the same name 'LSTMCell' as a built-in Keras object. Consider renaming <class 'keras.layers.recurrent.LSTMCell'> to avoid naming conflicts when loading with `tf.keras.models.load_model`. If renaming is not possible, pass the object in the `custom_objects` parameter of the load function.\n",
      "WARNING:absl:<keras.layers.recurrent.LSTMCell object at 0x138ed0610> has the same name 'LSTMCell' as a built-in Keras object. Consider renaming <class 'keras.layers.recurrent.LSTMCell'> to avoid naming conflicts when loading with `tf.keras.models.load_model`. If renaming is not possible, pass the object in the `custom_objects` parameter of the load function.\n"
     ]
    }
   ],
   "source": [
    "model.save('model')"
   ]
  },
  {
   "cell_type": "code",
   "execution_count": null,
   "id": "8c5cda1f",
   "metadata": {},
   "outputs": [],
   "source": []
  },
  {
   "cell_type": "code",
   "execution_count": null,
   "id": "c9ec6ef3",
   "metadata": {},
   "outputs": [],
   "source": []
  }
 ],
 "metadata": {
  "kernelspec": {
   "display_name": "Python 3 (ipykernel)",
   "language": "python",
   "name": "python3"
  },
  "language_info": {
   "codemirror_mode": {
    "name": "ipython",
    "version": 3
   },
   "file_extension": ".py",
   "mimetype": "text/x-python",
   "name": "python",
   "nbconvert_exporter": "python",
   "pygments_lexer": "ipython3",
   "version": "3.9.6"
  }
 },
 "nbformat": 4,
 "nbformat_minor": 5
}
