{
 "cells": [
  {
   "cell_type": "code",
   "execution_count": 1,
   "id": "7bb8e957",
   "metadata": {},
   "outputs": [
    {
     "name": "stdout",
     "output_type": "stream",
     "text": [
      "\u001b[33mDEPRECATION: Configuring installation scheme with distutils config files is deprecated and will no longer work in the near future. If you are using a Homebrew or Linuxbrew Python, please see discussion at https://github.com/Homebrew/homebrew-core/issues/76621\u001b[0m\n",
      "Requirement already satisfied: flask_ngrok in /usr/local/lib/python3.9/site-packages (0.0.25)\n",
      "Requirement already satisfied: requests in /usr/local/lib/python3.9/site-packages (from flask_ngrok) (2.26.0)\n",
      "Requirement already satisfied: Flask>=0.8 in /usr/local/lib/python3.9/site-packages (from flask_ngrok) (2.0.2)\n",
      "Requirement already satisfied: Jinja2>=3.0 in /usr/local/lib/python3.9/site-packages (from Flask>=0.8->flask_ngrok) (3.0.3)\n",
      "Requirement already satisfied: Werkzeug>=2.0 in /usr/local/lib/python3.9/site-packages (from Flask>=0.8->flask_ngrok) (2.0.2)\n",
      "Requirement already satisfied: itsdangerous>=2.0 in /usr/local/lib/python3.9/site-packages (from Flask>=0.8->flask_ngrok) (2.0.1)\n",
      "Requirement already satisfied: click>=7.1.2 in /usr/local/lib/python3.9/site-packages (from Flask>=0.8->flask_ngrok) (8.0.3)\n",
      "Requirement already satisfied: certifi>=2017.4.17 in /usr/local/lib/python3.9/site-packages (from requests->flask_ngrok) (2021.10.8)\n",
      "Requirement already satisfied: urllib3<1.27,>=1.21.1 in /usr/local/lib/python3.9/site-packages (from requests->flask_ngrok) (1.26.7)\n",
      "Requirement already satisfied: idna<4,>=2.5 in /usr/local/lib/python3.9/site-packages (from requests->flask_ngrok) (3.3)\n",
      "Requirement already satisfied: charset-normalizer~=2.0.0 in /usr/local/lib/python3.9/site-packages (from requests->flask_ngrok) (2.0.7)\n",
      "Requirement already satisfied: MarkupSafe>=2.0 in /usr/local/lib/python3.9/site-packages (from Jinja2>=3.0->Flask>=0.8->flask_ngrok) (2.0.1)\n"
     ]
    }
   ],
   "source": [
    "import csv\n",
    "import numpy as np\n",
    "from tensorflow import keras\n",
    "from tensorflow.keras.preprocessing.text import Tokenizer\n",
    "from tensorflow.keras.preprocessing.sequence import pad_sequences\n",
    "\n",
    "from flask import Flask, request, jsonify\n",
    "!pip install flask_ngrok\n",
    "from flask_ngrok import run_with_ngrok"
   ]
  },
  {
   "cell_type": "code",
   "execution_count": 2,
   "id": "bb8de85a",
   "metadata": {},
   "outputs": [
    {
     "name": "stderr",
     "output_type": "stream",
     "text": [
      "2021-11-21 06:01:37.923821: I tensorflow/core/platform/cpu_feature_guard.cc:151] This TensorFlow binary is optimized with oneAPI Deep Neural Network Library (oneDNN) to use the following CPU instructions in performance-critical operations:  AVX2 FMA\n",
      "To enable them in other operations, rebuild TensorFlow with the appropriate compiler flags.\n"
     ]
    }
   ],
   "source": [
    "# Load Trained ML Model\n",
    "model = keras.models.load_model('model')"
   ]
  },
  {
   "cell_type": "code",
   "execution_count": 3,
   "id": "178bde58",
   "metadata": {},
   "outputs": [],
   "source": [
    "# Load Tokenizer\n",
    "tokenizer = Tokenizer(num_words=500, oov_token=\"<OOV>\")\n",
    "sentences = []\n",
    "with open(\"dataset/spam_dataset.csv\", encoding=\"ISO-8859-1\") as csvfile:\n",
    "    reader = csv.reader(csvfile)\n",
    "    next(reader)\n",
    "    for row in reader:\n",
    "        sentences.append(row[1])\n",
    "split = int(len(sentences)*0.85)\n",
    "training_x = sentences[:split]\n",
    "tokenizer.fit_on_texts(training_x)"
   ]
  },
  {
   "cell_type": "code",
   "execution_count": null,
   "id": "122d5de7",
   "metadata": {},
   "outputs": [],
   "source": [
    "# Production ML API \n",
    "\n",
    "app = Flask(__name__)\n",
    "run_with_ngrok(app)  # Start ngrok when app is run\n",
    "\n",
    "@app.route(\"/\")\n",
    "def hello():\n",
    "    return \"Hello World!\"\n",
    "\n",
    "@app.route(\"/query/\", methods = ['POST'])\n",
    "def query():\n",
    "    content = request.form.get(\"query\")\n",
    "    content = content[0:189]\n",
    "    padded = pad_sequences(tokenizer.texts_to_sequences([content]), maxlen=189)\n",
    "    prediction = model.predict(padded)\n",
    "    confidence = prediction[0][0] * 100\n",
    "    if confidence < 0.03:\n",
    "        answer = \"real\"\n",
    "    else:\n",
    "        answer = \"fake\"\n",
    "    return { \"prediction\": answer, \"confidence\": confidence}\n",
    "\n",
    "if __name__ == '__main__':\n",
    "    app.run()"
   ]
  },
  {
   "cell_type": "code",
   "execution_count": null,
   "id": "e7ba8226",
   "metadata": {},
   "outputs": [],
   "source": []
  }
 ],
 "metadata": {
  "kernelspec": {
   "display_name": "Python 3 (ipykernel)",
   "language": "python",
   "name": "python3"
  },
  "language_info": {
   "codemirror_mode": {
    "name": "ipython",
    "version": 3
   },
   "file_extension": ".py",
   "mimetype": "text/x-python",
   "name": "python",
   "nbconvert_exporter": "python",
   "pygments_lexer": "ipython3",
   "version": "3.9.6"
  }
 },
 "nbformat": 4,
 "nbformat_minor": 5
}
